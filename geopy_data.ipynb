{
 "cells": [
  {
   "cell_type": "code",
   "execution_count": 10,
   "metadata": {},
   "outputs": [],
   "source": [
    "import pandas as pd "
   ]
  },
  {
   "cell_type": "code",
   "execution_count": 7,
   "metadata": {},
   "outputs": [],
   "source": [
    "from arcgis.geocoding import reverse_geocode\n",
    "from arcgis.geometry import Geometry\n",
    "from arcgis.gis import GIS"
   ]
  },
  {
   "cell_type": "code",
   "execution_count": 2,
   "metadata": {},
   "outputs": [],
   "source": [
    "start_station = pd.read_csv(\"collatedData/StartStationID.csv\")\n",
    "end_station = pd.read_csv(\"collatedData/EndStationID.csv\")"
   ]
  },
  {
   "cell_type": "code",
   "execution_count": 5,
   "metadata": {},
   "outputs": [],
   "source": [
    "def get_zipcode(df, geolocator, lat_field, lon_field):\n",
    "    location = geolocator.reverse((df[lat_field], df[lon_field]))\n",
    "    return location.raw['address']['postcode']"
   ]
  },
  {
   "cell_type": "code",
   "execution_count": 9,
   "metadata": {},
   "outputs": [],
   "source": [
    "gis = GIS(\"http://www.arcgis.com\", \"Zach_Breen_LearnArcGIS\", \"ArcGISpassword1234!\")\n",
    "\n",
    "def get_zip(df, lon_field, lat_field):\n",
    "    location = reverse_geocode((Geometry({\"x\":float(df[lon_field]), \"y\":float(df[lat_field]), \"spatialReference\":{\"wkid\": 4326}})))\n",
    "    return location['address']['Postal']"
   ]
  },
  {
   "cell_type": "code",
   "execution_count": 11,
   "metadata": {},
   "outputs": [],
   "source": [
    "\n",
    "zipcodes = end_station.apply(get_zip, axis=1, lat_field='latitude', lon_field='longitude')"
   ]
  },
  {
   "cell_type": "code",
   "execution_count": 15,
   "metadata": {},
   "outputs": [
    {
     "data": {
      "text/html": [
       "<div>\n",
       "<style scoped>\n",
       "    .dataframe tbody tr th:only-of-type {\n",
       "        vertical-align: middle;\n",
       "    }\n",
       "\n",
       "    .dataframe tbody tr th {\n",
       "        vertical-align: top;\n",
       "    }\n",
       "\n",
       "    .dataframe thead th {\n",
       "        text-align: right;\n",
       "    }\n",
       "</style>\n",
       "<table border=\"1\" class=\"dataframe\">\n",
       "  <thead>\n",
       "    <tr style=\"text-align: right;\">\n",
       "      <th></th>\n",
       "      <th>end station id</th>\n",
       "      <th>tripduration</th>\n",
       "      <th>Total_trip_duration</th>\n",
       "      <th>average_trip_duration</th>\n",
       "      <th>latitude</th>\n",
       "      <th>longitude</th>\n",
       "      <th>zipcodes</th>\n",
       "    </tr>\n",
       "  </thead>\n",
       "  <tbody>\n",
       "    <tr>\n",
       "      <th>0</th>\n",
       "      <td>72</td>\n",
       "      <td>34532</td>\n",
       "      <td>48778218</td>\n",
       "      <td>1412.551199</td>\n",
       "      <td>40.767272</td>\n",
       "      <td>-73.993929</td>\n",
       "      <td>10019</td>\n",
       "    </tr>\n",
       "    <tr>\n",
       "      <th>1</th>\n",
       "      <td>79</td>\n",
       "      <td>19981</td>\n",
       "      <td>25747489</td>\n",
       "      <td>1288.598619</td>\n",
       "      <td>40.719116</td>\n",
       "      <td>-74.006667</td>\n",
       "      <td>10013</td>\n",
       "    </tr>\n",
       "    <tr>\n",
       "      <th>2</th>\n",
       "      <td>82</td>\n",
       "      <td>12170</td>\n",
       "      <td>18485345</td>\n",
       "      <td>1518.927280</td>\n",
       "      <td>40.711174</td>\n",
       "      <td>-74.000166</td>\n",
       "      <td>10038</td>\n",
       "    </tr>\n",
       "    <tr>\n",
       "      <th>3</th>\n",
       "      <td>83</td>\n",
       "      <td>19257</td>\n",
       "      <td>30368746</td>\n",
       "      <td>1577.023732</td>\n",
       "      <td>40.683826</td>\n",
       "      <td>-73.976323</td>\n",
       "      <td>11217</td>\n",
       "    </tr>\n",
       "    <tr>\n",
       "      <th>4</th>\n",
       "      <td>116</td>\n",
       "      <td>44770</td>\n",
       "      <td>40148951</td>\n",
       "      <td>896.782466</td>\n",
       "      <td>40.741776</td>\n",
       "      <td>-74.001497</td>\n",
       "      <td>10011</td>\n",
       "    </tr>\n",
       "  </tbody>\n",
       "</table>\n",
       "</div>"
      ],
      "text/plain": [
       "   end station id  tripduration  Total_trip_duration  average_trip_duration  \\\n",
       "0              72         34532             48778218            1412.551199   \n",
       "1              79         19981             25747489            1288.598619   \n",
       "2              82         12170             18485345            1518.927280   \n",
       "3              83         19257             30368746            1577.023732   \n",
       "4             116         44770             40148951             896.782466   \n",
       "\n",
       "    latitude  longitude zipcodes  \n",
       "0  40.767272 -73.993929    10019  \n",
       "1  40.719116 -74.006667    10013  \n",
       "2  40.711174 -74.000166    10038  \n",
       "3  40.683826 -73.976323    11217  \n",
       "4  40.741776 -74.001497    10011  "
      ]
     },
     "execution_count": 15,
     "metadata": {},
     "output_type": "execute_result"
    }
   ],
   "source": [
    "end_station[\"zipcodes\"] = zipcodes\n",
    "end_station.head()"
   ]
  },
  {
   "cell_type": "code",
   "execution_count": 16,
   "metadata": {},
   "outputs": [],
   "source": [
    "szipcodes = start_station.apply(get_zip, axis=1, lat_field='latitude', lon_field='longitude')"
   ]
  },
  {
   "cell_type": "code",
   "execution_count": 17,
   "metadata": {},
   "outputs": [
    {
     "data": {
      "text/html": [
       "<div>\n",
       "<style scoped>\n",
       "    .dataframe tbody tr th:only-of-type {\n",
       "        vertical-align: middle;\n",
       "    }\n",
       "\n",
       "    .dataframe tbody tr th {\n",
       "        vertical-align: top;\n",
       "    }\n",
       "\n",
       "    .dataframe thead th {\n",
       "        text-align: right;\n",
       "    }\n",
       "</style>\n",
       "<table border=\"1\" class=\"dataframe\">\n",
       "  <thead>\n",
       "    <tr style=\"text-align: right;\">\n",
       "      <th></th>\n",
       "      <th>start station id</th>\n",
       "      <th>tripduration</th>\n",
       "      <th>Total_trip_duration</th>\n",
       "      <th>average_trip_duration</th>\n",
       "      <th>latitude</th>\n",
       "      <th>longitude</th>\n",
       "      <th>zipcodes</th>\n",
       "    </tr>\n",
       "  </thead>\n",
       "  <tbody>\n",
       "    <tr>\n",
       "      <th>0</th>\n",
       "      <td>72</td>\n",
       "      <td>34550</td>\n",
       "      <td>47548965</td>\n",
       "      <td>1376.236324</td>\n",
       "      <td>40.767272</td>\n",
       "      <td>-73.993929</td>\n",
       "      <td>10019</td>\n",
       "    </tr>\n",
       "    <tr>\n",
       "      <th>1</th>\n",
       "      <td>79</td>\n",
       "      <td>19560</td>\n",
       "      <td>25218725</td>\n",
       "      <td>1289.300869</td>\n",
       "      <td>40.719116</td>\n",
       "      <td>-74.006667</td>\n",
       "      <td>10013</td>\n",
       "    </tr>\n",
       "    <tr>\n",
       "      <th>2</th>\n",
       "      <td>82</td>\n",
       "      <td>12009</td>\n",
       "      <td>13147793</td>\n",
       "      <td>1094.828295</td>\n",
       "      <td>40.711174</td>\n",
       "      <td>-74.000166</td>\n",
       "      <td>10038</td>\n",
       "    </tr>\n",
       "    <tr>\n",
       "      <th>3</th>\n",
       "      <td>83</td>\n",
       "      <td>18797</td>\n",
       "      <td>28022697</td>\n",
       "      <td>1490.806884</td>\n",
       "      <td>40.683826</td>\n",
       "      <td>-73.976323</td>\n",
       "      <td>11217</td>\n",
       "    </tr>\n",
       "    <tr>\n",
       "      <th>4</th>\n",
       "      <td>116</td>\n",
       "      <td>44608</td>\n",
       "      <td>46245054</td>\n",
       "      <td>1036.698664</td>\n",
       "      <td>40.741776</td>\n",
       "      <td>-74.001497</td>\n",
       "      <td>10011</td>\n",
       "    </tr>\n",
       "  </tbody>\n",
       "</table>\n",
       "</div>"
      ],
      "text/plain": [
       "   start station id  tripduration  Total_trip_duration  average_trip_duration  \\\n",
       "0                72         34550             47548965            1376.236324   \n",
       "1                79         19560             25218725            1289.300869   \n",
       "2                82         12009             13147793            1094.828295   \n",
       "3                83         18797             28022697            1490.806884   \n",
       "4               116         44608             46245054            1036.698664   \n",
       "\n",
       "    latitude  longitude zipcodes  \n",
       "0  40.767272 -73.993929    10019  \n",
       "1  40.719116 -74.006667    10013  \n",
       "2  40.711174 -74.000166    10038  \n",
       "3  40.683826 -73.976323    11217  \n",
       "4  40.741776 -74.001497    10011  "
      ]
     },
     "execution_count": 17,
     "metadata": {},
     "output_type": "execute_result"
    }
   ],
   "source": [
    "start_station[\"zipcodes\"] = szipcodes\n",
    "start_station.head()"
   ]
  },
  {
   "cell_type": "code",
   "execution_count": 18,
   "metadata": {},
   "outputs": [],
   "source": [
    "end_station.to_csv(\"collatedData/EndStationID.csv\")\n",
    "start_station.to_csv(\"collatedData/StartStationID.csv\")"
   ]
  }
 ],
 "metadata": {
  "interpreter": {
   "hash": "1285904ba567d705b5b0c77ef26e2afa224e6c9be425928c8d1fadaaa18b5985"
  },
  "kernelspec": {
   "display_name": "Python 3.8.12 64-bit ('base': conda)",
   "language": "python",
   "name": "python3"
  },
  "language_info": {
   "codemirror_mode": {
    "name": "ipython",
    "version": 3
   },
   "file_extension": ".py",
   "mimetype": "text/x-python",
   "name": "python",
   "nbconvert_exporter": "python",
   "pygments_lexer": "ipython3",
   "version": "3.9.10"
  },
  "orig_nbformat": 4
 },
 "nbformat": 4,
 "nbformat_minor": 2
}
