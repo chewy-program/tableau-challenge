{
 "cells": [
  {
   "cell_type": "code",
   "execution_count": 21,
   "id": "3aaa59c1",
   "metadata": {},
   "outputs": [],
   "source": [
    "import pandas as pd \n",
    "from selenium import webdriver\n",
    "from splinter import Browser\n",
    "from bs4 import BeautifulSoup\n",
    "from webdriver_manager.chrome import ChromeDriverManager\n",
    "import zipfile\n",
    "import os \n",
    "import urllib\n",
    "import urllib.request"
   ]
  },
  {
   "cell_type": "code",
   "execution_count": 22,
   "id": "66123542",
   "metadata": {},
   "outputs": [],
   "source": [
    "import requests, zipfile"
   ]
  },
  {
   "cell_type": "code",
   "execution_count": 23,
   "id": "cedba755",
   "metadata": {},
   "outputs": [],
   "source": [
    "url = 'https://s3.amazonaws.com/tripdata/index.html'"
   ]
  },
  {
   "cell_type": "code",
   "execution_count": 24,
   "id": "aacb4c30",
   "metadata": {},
   "outputs": [
    {
     "name": "stderr",
     "output_type": "stream",
     "text": [
      "\n",
      "\n",
      "====== WebDriver manager ======\n",
      "Current google-chrome version is 97.0.4692\n",
      "Get LATEST chromedriver version for 97.0.4692 google-chrome\n",
      "Driver [C:\\Users\\Zach\\.wdm\\drivers\\chromedriver\\win32\\97.0.4692.71\\chromedriver.exe] found in cache\n"
     ]
    }
   ],
   "source": [
    "executable_path = {'executable_path': ChromeDriverManager().install()}\n",
    "browser = Browser('chrome', **executable_path, headless=False)\n",
    "visit = browser.visit(url)"
   ]
  },
  {
   "cell_type": "code",
   "execution_count": 6,
   "id": "fce1b216",
   "metadata": {},
   "outputs": [
    {
     "name": "stdout",
     "output_type": "stream",
     "text": [
      "['https://s3.amazonaws.com/tripdata/201306-citibike-tripdata.zip', 'https://s3.amazonaws.com/tripdata/201307-201402-citibike-tripdata.zip', 'https://s3.amazonaws.com/tripdata/201307-citibike-tripdata.zip', 'https://s3.amazonaws.com/tripdata/201308-citibike-tripdata.zip', 'https://s3.amazonaws.com/tripdata/201309-citibike-tripdata.zip', 'https://s3.amazonaws.com/tripdata/201310-citibike-tripdata.zip', 'https://s3.amazonaws.com/tripdata/201311-citibike-tripdata.zip', 'https://s3.amazonaws.com/tripdata/201312-citibike-tripdata.zip', 'https://s3.amazonaws.com/tripdata/201401-citibike-tripdata.zip', 'https://s3.amazonaws.com/tripdata/201402-citibike-tripdata.zip', 'https://s3.amazonaws.com/tripdata/201403-citibike-tripdata.zip', 'https://s3.amazonaws.com/tripdata/201404-citibike-tripdata.zip', 'https://s3.amazonaws.com/tripdata/201405-citibike-tripdata.zip', 'https://s3.amazonaws.com/tripdata/201406-citibike-tripdata.zip', 'https://s3.amazonaws.com/tripdata/201407-citibike-tripdata.zip', 'https://s3.amazonaws.com/tripdata/201408-citibike-tripdata.zip', 'https://s3.amazonaws.com/tripdata/201409-citibike-tripdata.zip', 'https://s3.amazonaws.com/tripdata/201410-citibike-tripdata.zip', 'https://s3.amazonaws.com/tripdata/201411-citibike-tripdata.zip', 'https://s3.amazonaws.com/tripdata/201412-citibike-tripdata.zip', 'https://s3.amazonaws.com/tripdata/201501-citibike-tripdata.zip', 'https://s3.amazonaws.com/tripdata/201502-citibike-tripdata.zip', 'https://s3.amazonaws.com/tripdata/201503-citibike-tripdata.zip', 'https://s3.amazonaws.com/tripdata/201504-citibike-tripdata.zip', 'https://s3.amazonaws.com/tripdata/201505-citibike-tripdata.zip', 'https://s3.amazonaws.com/tripdata/201506-citibike-tripdata.zip', 'https://s3.amazonaws.com/tripdata/201507-citibike-tripdata.zip', 'https://s3.amazonaws.com/tripdata/201508-citibike-tripdata.zip', 'https://s3.amazonaws.com/tripdata/201509-citibike-tripdata.zip', 'https://s3.amazonaws.com/tripdata/201510-citibike-tripdata.zip', 'https://s3.amazonaws.com/tripdata/201511-citibike-tripdata.zip', 'https://s3.amazonaws.com/tripdata/201512-citibike-tripdata.zip', 'https://s3.amazonaws.com/tripdata/201601-citibike-tripdata.zip', 'https://s3.amazonaws.com/tripdata/201602-citibike-tripdata.zip', 'https://s3.amazonaws.com/tripdata/201603-citibike-tripdata.zip', 'https://s3.amazonaws.com/tripdata/201604-citibike-tripdata.zip', 'https://s3.amazonaws.com/tripdata/201605-citibike-tripdata.zip', 'https://s3.amazonaws.com/tripdata/201606-citibike-tripdata.zip', 'https://s3.amazonaws.com/tripdata/201607-citibike-tripdata.zip', 'https://s3.amazonaws.com/tripdata/201608-citibike-tripdata.zip', 'https://s3.amazonaws.com/tripdata/201609-citibike-tripdata.zip', 'https://s3.amazonaws.com/tripdata/201610-citibike-tripdata.zip', 'https://s3.amazonaws.com/tripdata/201611-citibike-tripdata.zip', 'https://s3.amazonaws.com/tripdata/201612-citibike-tripdata.zip', 'https://s3.amazonaws.com/tripdata/201701-citibike-tripdata.csv.zip', 'https://s3.amazonaws.com/tripdata/201702-citibike-tripdata.csv.zip', 'https://s3.amazonaws.com/tripdata/201703-citibike-tripdata.csv.zip', 'https://s3.amazonaws.com/tripdata/201704-citibike-tripdata.csv.zip', 'https://s3.amazonaws.com/tripdata/201705-citibike-tripdata.csv.zip', 'https://s3.amazonaws.com/tripdata/201706-citibike-tripdata.csv.zip', 'https://s3.amazonaws.com/tripdata/201707-citibike-tripdata.csv.zip', 'https://s3.amazonaws.com/tripdata/201708-citibike-tripdata.csv.zip', 'https://s3.amazonaws.com/tripdata/201709-citibike-tripdata.csv.zip', 'https://s3.amazonaws.com/tripdata/201710-citibike-tripdata.csv.zip', 'https://s3.amazonaws.com/tripdata/201711-citibike-tripdata.csv.zip', 'https://s3.amazonaws.com/tripdata/201712-citibike-tripdata.csv.zip', 'https://s3.amazonaws.com/tripdata/201801-citibike-tripdata.csv.zip', 'https://s3.amazonaws.com/tripdata/201802-citibike-tripdata.csv.zip', 'https://s3.amazonaws.com/tripdata/201803-citibike-tripdata.csv.zip', 'https://s3.amazonaws.com/tripdata/201804-citibike-tripdata.csv.zip', 'https://s3.amazonaws.com/tripdata/201805-citibike-tripdata.csv.zip', 'https://s3.amazonaws.com/tripdata/201806-citibike-tripdata.csv.zip', 'https://s3.amazonaws.com/tripdata/201807-citibike-tripdata.csv.zip', 'https://s3.amazonaws.com/tripdata/201808-citibike-tripdata.csv.zip', 'https://s3.amazonaws.com/tripdata/201809-citibike-tripdata.csv.zip', 'https://s3.amazonaws.com/tripdata/201810-citibike-tripdata.csv.zip', 'https://s3.amazonaws.com/tripdata/201811-citibike-tripdata.csv.zip', 'https://s3.amazonaws.com/tripdata/201812-citibike-tripdata.csv.zip', 'https://s3.amazonaws.com/tripdata/201901-citibike-tripdata.csv.zip', 'https://s3.amazonaws.com/tripdata/201902-citibike-tripdata.csv.zip', 'https://s3.amazonaws.com/tripdata/201903-citibike-tripdata.csv.zip', 'https://s3.amazonaws.com/tripdata/201904-citibike-tripdata.csv.zip', 'https://s3.amazonaws.com/tripdata/201905-citibike-tripdata.csv.zip', 'https://s3.amazonaws.com/tripdata/201906-citibike-tripdata.csv.zip', 'https://s3.amazonaws.com/tripdata/201907-citibike-tripdata.csv.zip', 'https://s3.amazonaws.com/tripdata/201908-citibike-tripdata.csv.zip', 'https://s3.amazonaws.com/tripdata/201909-citibike-tripdata.csv.zip', 'https://s3.amazonaws.com/tripdata/201910-citibike-tripdata.csv.zip', 'https://s3.amazonaws.com/tripdata/201911-citibike-tripdata.csv.zip', 'https://s3.amazonaws.com/tripdata/201912-citibike-tripdata.csv.zip', 'https://s3.amazonaws.com/tripdata/202001-citibike-tripdata.csv.zip', 'https://s3.amazonaws.com/tripdata/202002-citibike-tripdata.csv.zip', 'https://s3.amazonaws.com/tripdata/202003-citibike-tripdata.csv.zip', 'https://s3.amazonaws.com/tripdata/202004-citibike-tripdata.csv.zip', 'https://s3.amazonaws.com/tripdata/202005-citibike-tripdata.csv.zip', 'https://s3.amazonaws.com/tripdata/202006-citibike-tripdata.csv.zip', 'https://s3.amazonaws.com/tripdata/202007-citibike-tripdata.csv.zip', 'https://s3.amazonaws.com/tripdata/202008-citibike-tripdata.csv.zip', 'https://s3.amazonaws.com/tripdata/202009-citibike-tripdata.csv.zip', 'https://s3.amazonaws.com/tripdata/202010-citibike-tripdata.csv.zip', 'https://s3.amazonaws.com/tripdata/202011-citibike-tripdata.csv.zip', 'https://s3.amazonaws.com/tripdata/202012-citibike-tripdata.csv.zip', 'https://s3.amazonaws.com/tripdata/202101-citibike-tripdata.csv.zip', 'https://s3.amazonaws.com/tripdata/202102-citibike-tripdata.csv.zip', 'https://s3.amazonaws.com/tripdata/202103-citibike-tripdata.csv.zip', 'https://s3.amazonaws.com/tripdata/202104-citibike-tripdata.csv.zip', 'https://s3.amazonaws.com/tripdata/202105-citibike-tripdata.csv.zip', 'https://s3.amazonaws.com/tripdata/202106-citibike-tripdata.csv.zip', 'https://s3.amazonaws.com/tripdata/202107-citibike-tripdata.csv.zip', 'https://s3.amazonaws.com/tripdata/202108-citibike-tripdata.csv.zip', 'https://s3.amazonaws.com/tripdata/202109-citibike-tripdata.csv.zip', 'https://s3.amazonaws.com/tripdata/202110-citibike-tripdata.csv.zip', 'https://s3.amazonaws.com/tripdata/202111-citibike-tripdata.csv.zip', 'https://s3.amazonaws.com/tripdata/202112-citibike-tripdata.csv.zip', 'https://s3.amazonaws.com/tripdata/JC-201509-citibike-tripdata.csv.zip', 'https://s3.amazonaws.com/tripdata/JC-201510-citibike-tripdata.csv.zip', 'https://s3.amazonaws.com/tripdata/JC-201511-citibike-tripdata.csv.zip', 'https://s3.amazonaws.com/tripdata/JC-201512-citibike-tripdata.csv.zip', 'https://s3.amazonaws.com/tripdata/JC-201601-citibike-tripdata.csv.zip', 'https://s3.amazonaws.com/tripdata/JC-201602-citibike-tripdata.csv.zip', 'https://s3.amazonaws.com/tripdata/JC-201603-citibike-tripdata.csv.zip', 'https://s3.amazonaws.com/tripdata/JC-201604-citibike-tripdata.csv.zip', 'https://s3.amazonaws.com/tripdata/JC-201605-citibike-tripdata.csv.zip', 'https://s3.amazonaws.com/tripdata/JC-201606-citibike-tripdata.csv.zip', 'https://s3.amazonaws.com/tripdata/JC-201607-citibike-tripdata.csv.zip', 'https://s3.amazonaws.com/tripdata/JC-201608-citibike-tripdata.csv.zip', 'https://s3.amazonaws.com/tripdata/JC-201609-citibike-tripdata.csv.zip', 'https://s3.amazonaws.com/tripdata/JC-201610-citibike-tripdata.csv.zip', 'https://s3.amazonaws.com/tripdata/JC-201611-citibike-tripdata.csv.zip', 'https://s3.amazonaws.com/tripdata/JC-201612-citibike-tripdata.csv.zip', 'https://s3.amazonaws.com/tripdata/JC-201701-citibike-tripdata.csv.zip', 'https://s3.amazonaws.com/tripdata/JC-201702-citibike-tripdata.csv.zip', 'https://s3.amazonaws.com/tripdata/JC-201703-citibike-tripdata.csv.zip', 'https://s3.amazonaws.com/tripdata/JC-201704-citibike-tripdata.csv.zip', 'https://s3.amazonaws.com/tripdata/JC-201705-citibike-tripdata.csv.zip', 'https://s3.amazonaws.com/tripdata/JC-201706-citibike-tripdata.csv.zip', 'https://s3.amazonaws.com/tripdata/JC-201707-citibike-tripdata.csv.zip', 'https://s3.amazonaws.com/tripdata/JC-201708 citibike-tripdata.csv.zip', 'https://s3.amazonaws.com/tripdata/JC-201709-citibike-tripdata.csv.zip', 'https://s3.amazonaws.com/tripdata/JC-201710-citibike-tripdata.csv.zip', 'https://s3.amazonaws.com/tripdata/JC-201711-citibike-tripdata.csv.zip', 'https://s3.amazonaws.com/tripdata/JC-201712-citibike-tripdata.csv.zip', 'https://s3.amazonaws.com/tripdata/JC-201801-citibike-tripdata.csv.zip', 'https://s3.amazonaws.com/tripdata/JC-201802-citibike-tripdata.csv.zip', 'https://s3.amazonaws.com/tripdata/JC-201803-citibike-tripdata.csv.zip', 'https://s3.amazonaws.com/tripdata/JC-201804-citibike-tripdata.csv.zip', 'https://s3.amazonaws.com/tripdata/JC-201805-citibike-tripdata.csv.zip', 'https://s3.amazonaws.com/tripdata/JC-201806-citibike-tripdata.csv.zip', 'https://s3.amazonaws.com/tripdata/JC-201807-citibike-tripdata.csv.zip', 'https://s3.amazonaws.com/tripdata/JC-201808-citibike-tripdata.csv.zip', 'https://s3.amazonaws.com/tripdata/JC-201809-citibike-tripdata.csv.zip', 'https://s3.amazonaws.com/tripdata/JC-201810-citibike-tripdata.csv.zip', 'https://s3.amazonaws.com/tripdata/JC-201811-citibike-tripdata.csv.zip', 'https://s3.amazonaws.com/tripdata/JC-201812-citibike-tripdata.csv.zip', 'https://s3.amazonaws.com/tripdata/JC-201901-citibike-tripdata.csv.zip', 'https://s3.amazonaws.com/tripdata/JC-201902-citibike-tripdata.csv.zip', 'https://s3.amazonaws.com/tripdata/JC-201903-citibike-tripdata.csv.zip', 'https://s3.amazonaws.com/tripdata/JC-201904-citibike-tripdata.csv.zip', 'https://s3.amazonaws.com/tripdata/JC-201905-citibike-tripdata.csv.zip', 'https://s3.amazonaws.com/tripdata/JC-201906-citibike-tripdata.csv.zip', 'https://s3.amazonaws.com/tripdata/JC-201907-citibike-tripdata.csv.zip', 'https://s3.amazonaws.com/tripdata/JC-201908-citibike-tripdata.csv.zip', 'https://s3.amazonaws.com/tripdata/JC-201909-citibike-tripdata.csv.zip', 'https://s3.amazonaws.com/tripdata/JC-201910-citibike-tripdata.csv.zip', 'https://s3.amazonaws.com/tripdata/JC-201911-citibike-tripdata.csv.zip', 'https://s3.amazonaws.com/tripdata/JC-201912-citibike-tripdata.csv.zip', 'https://s3.amazonaws.com/tripdata/JC-202001-citibike-tripdata.csv.zip', 'https://s3.amazonaws.com/tripdata/JC-202002-citibike-tripdata.csv.zip', 'https://s3.amazonaws.com/tripdata/JC-202003-citibike-tripdata.csv.zip', 'https://s3.amazonaws.com/tripdata/JC-202004-citibike-tripdata.csv.zip', 'https://s3.amazonaws.com/tripdata/JC-202005-citibike-tripdata.csv.zip', 'https://s3.amazonaws.com/tripdata/JC-202006-citibike-tripdata.csv.zip', 'https://s3.amazonaws.com/tripdata/JC-202007-citibike-tripdata.csv.zip', 'https://s3.amazonaws.com/tripdata/JC-202008-citibike-tripdata.csv.zip', 'https://s3.amazonaws.com/tripdata/JC-202009-citibike-tripdata.csv.zip', 'https://s3.amazonaws.com/tripdata/JC-202010-citibike-tripdata.csv.zip', 'https://s3.amazonaws.com/tripdata/JC-202011-citibike-tripdata.csv.zip', 'https://s3.amazonaws.com/tripdata/JC-202012-citibike-tripdata.csv.zip', 'https://s3.amazonaws.com/tripdata/JC-202101-citibike-tripdata.csv.zip', 'https://s3.amazonaws.com/tripdata/JC-202102-citibike-tripdata.csv.zip', 'https://s3.amazonaws.com/tripdata/JC-202103-citibike-tripdata.csv.zip', 'https://s3.amazonaws.com/tripdata/JC-202104-citibike-tripdata.csv.zip', 'https://s3.amazonaws.com/tripdata/JC-202105-citibike-tripdata.csv.zip', 'https://s3.amazonaws.com/tripdata/JC-202106-citibike-tripdata.csv.zip', 'https://s3.amazonaws.com/tripdata/JC-202107-citibike-tripdata.csv.zip', 'https://s3.amazonaws.com/tripdata/JC-202108-citibike-tripdata.csv.zip', 'https://s3.amazonaws.com/tripdata/JC-202109-citibike-tripdata.csv.zip', 'https://s3.amazonaws.com/tripdata/JC-202110-citibike-tripdata.csv.zip', 'https://s3.amazonaws.com/tripdata/JC-202111-citibike-tripdata.csv.zip', 'https://s3.amazonaws.com/tripdata/JC-202112-citibike-tripdata.csv.zip', 'https://s3.amazonaws.com/tripdata/index.html']\n"
     ]
    }
   ],
   "source": [
    "zip_files = []\n",
    "\n",
    "    # HTML object\n",
    "html = browser.html\n",
    "    # Parse HTML with Beautiful Soup\n",
    "soup = BeautifulSoup(html, 'html.parser')\n",
    "    # Retrieve all elements that contain book information\n",
    "links = soup.find_all('a')\n",
    "    # Scrape the [Mars News Site](https://redplanetscience.com/) and collect the latest News Title and Paragraph Text. \n",
    "for a in links:\n",
    "        # Use Beautiful Soup's find() method to navigate and retrieve attributes\n",
    "        #Assign the text to variables that you can reference later.\n",
    "    link = a[\"href\"]\n",
    "    zip_files.append(link)\n",
    "print(zip_files)"
   ]
  },
  {
   "cell_type": "code",
   "execution_count": 7,
   "id": "ced55842",
   "metadata": {},
   "outputs": [],
   "source": [
    "downloads_dir = \"downloaded/\"\n",
    "\n",
    "for file in zip_files: \n",
    "    name = file.rsplit('/', 1)[-1]\n",
    "\n",
    "    # Combine the name and the downloads directory to get the local filename\n",
    "    filename = os.path.join(downloads_dir, name)\n",
    "    file1 = open(filename, \"w\")\n",
    "    file1.write(\"file information\")\n",
    "    file1.close\n",
    "\n",
    "    # Download the file if it does not exist\n",
    "    if not os.path.exists(filename):\n",
    "        urllib.request.urlretrieve(url, filename)"
   ]
  },
  {
   "cell_type": "code",
   "execution_count": 15,
   "id": "5f2e60f5",
   "metadata": {},
   "outputs": [
    {
     "ename": "ValueError",
     "evalue": "DataFrame constructor not properly called!",
     "output_type": "error",
     "traceback": [
      "\u001b[1;31m---------------------------------------------------------------------------\u001b[0m",
      "\u001b[1;31mValueError\u001b[0m                                Traceback (most recent call last)",
      "\u001b[1;32m~\\AppData\\Local\\Temp/ipykernel_5476/493195194.py\u001b[0m in \u001b[0;36m<module>\u001b[1;34m\u001b[0m\n\u001b[0;32m      5\u001b[0m             \u001b[0mzip_file\u001b[0m \u001b[1;33m=\u001b[0m \u001b[0mos\u001b[0m\u001b[1;33m.\u001b[0m\u001b[0mpath\u001b[0m\u001b[1;33m.\u001b[0m\u001b[0mjoin\u001b[0m\u001b[1;33m(\u001b[0m\u001b[0mdownloads_dir\u001b[0m\u001b[1;33m,\u001b[0m \u001b[0mfilename\u001b[0m\u001b[1;33m)\u001b[0m\u001b[1;33m\u001b[0m\u001b[1;33m\u001b[0m\u001b[0m\n\u001b[0;32m      6\u001b[0m             \u001b[0mzf\u001b[0m \u001b[1;33m=\u001b[0m \u001b[0mzipfile\u001b[0m\u001b[1;33m.\u001b[0m\u001b[0mZipFile\u001b[0m\u001b[1;33m(\u001b[0m\u001b[0mzip_file\u001b[0m\u001b[1;33m)\u001b[0m\u001b[1;33m\u001b[0m\u001b[1;33m\u001b[0m\u001b[0m\n\u001b[1;32m----> 7\u001b[1;33m             \u001b[0mzf\u001b[0m \u001b[1;33m=\u001b[0m \u001b[0mpd\u001b[0m\u001b[1;33m.\u001b[0m\u001b[0mDataFrame\u001b[0m\u001b[1;33m(\u001b[0m\u001b[0mzf\u001b[0m\u001b[1;33m)\u001b[0m\u001b[1;33m\u001b[0m\u001b[1;33m\u001b[0m\u001b[0m\n\u001b[0m\u001b[0;32m      8\u001b[0m             \u001b[0mdfs\u001b[0m\u001b[1;33m.\u001b[0m\u001b[0mappend\u001b[0m\u001b[1;33m(\u001b[0m\u001b[0mzf\u001b[0m\u001b[1;33m)\u001b[0m\u001b[1;33m\u001b[0m\u001b[1;33m\u001b[0m\u001b[0m\n\u001b[0;32m      9\u001b[0m     \u001b[1;32mexcept\u001b[0m \u001b[0mzipfile\u001b[0m\u001b[1;33m.\u001b[0m\u001b[0mBadZipFile\u001b[0m \u001b[1;32mas\u001b[0m \u001b[0me\u001b[0m\u001b[1;33m:\u001b[0m\u001b[1;33m\u001b[0m\u001b[1;33m\u001b[0m\u001b[0m\n",
      "\u001b[1;32m~\\anaconda3\\lib\\site-packages\\pandas\\core\\frame.py\u001b[0m in \u001b[0;36m__init__\u001b[1;34m(self, data, index, columns, dtype, copy)\u001b[0m\n\u001b[0;32m    728\u001b[0m         \u001b[1;32melse\u001b[0m\u001b[1;33m:\u001b[0m\u001b[1;33m\u001b[0m\u001b[1;33m\u001b[0m\u001b[0m\n\u001b[0;32m    729\u001b[0m             \u001b[1;32mif\u001b[0m \u001b[0mindex\u001b[0m \u001b[1;32mis\u001b[0m \u001b[1;32mNone\u001b[0m \u001b[1;32mor\u001b[0m \u001b[0mcolumns\u001b[0m \u001b[1;32mis\u001b[0m \u001b[1;32mNone\u001b[0m\u001b[1;33m:\u001b[0m\u001b[1;33m\u001b[0m\u001b[1;33m\u001b[0m\u001b[0m\n\u001b[1;32m--> 730\u001b[1;33m                 \u001b[1;32mraise\u001b[0m \u001b[0mValueError\u001b[0m\u001b[1;33m(\u001b[0m\u001b[1;34m\"DataFrame constructor not properly called!\"\u001b[0m\u001b[1;33m)\u001b[0m\u001b[1;33m\u001b[0m\u001b[1;33m\u001b[0m\u001b[0m\n\u001b[0m\u001b[0;32m    731\u001b[0m \u001b[1;33m\u001b[0m\u001b[0m\n\u001b[0;32m    732\u001b[0m             \u001b[1;31m# Argument 1 to \"ensure_index\" has incompatible type \"Collection[Any]\";\u001b[0m\u001b[1;33m\u001b[0m\u001b[1;33m\u001b[0m\u001b[1;33m\u001b[0m\u001b[0m\n",
      "\u001b[1;31mValueError\u001b[0m: DataFrame constructor not properly called!"
     ]
    }
   ],
   "source": [
    "dfs = []\n",
    "for filename in os.listdir(downloads_dir):\n",
    "    try: \n",
    "        if filename.endswith('.zip'):\n",
    "            zip_file = os.path.join(downloads_dir, filename)\n",
    "            zf = zipfile.ZipFile(zip_file)\n",
    "            zf = pd.DataFrame(zf)\n",
    "            dfs.append(zf)\n",
    "    except zipfile.BadZipFile as e:\n",
    "        print(f\"could not read zipfile: {e}\")    \n",
    "df = pd.concat(dfs,ignore_index=True)\n",
    "print(df)"
   ]
  },
  {
   "cell_type": "code",
   "execution_count": 16,
   "id": "017e18af",
   "metadata": {},
   "outputs": [
    {
     "ename": "AttributeError",
     "evalue": "'nt.DirEntry' object has no attribute 'endswith'",
     "output_type": "error",
     "traceback": [
      "\u001b[1;31m---------------------------------------------------------------------------\u001b[0m",
      "\u001b[1;31mAttributeError\u001b[0m                            Traceback (most recent call last)",
      "\u001b[1;32m~\\AppData\\Local\\Temp/ipykernel_5476/1503891320.py\u001b[0m in \u001b[0;36m<module>\u001b[1;34m\u001b[0m\n\u001b[0;32m      5\u001b[0m \u001b[1;33m\u001b[0m\u001b[0m\n\u001b[0;32m      6\u001b[0m \u001b[1;32mfor\u001b[0m \u001b[0mfile\u001b[0m \u001b[1;32min\u001b[0m \u001b[0mos\u001b[0m\u001b[1;33m.\u001b[0m\u001b[0mscandir\u001b[0m\u001b[1;33m(\u001b[0m\u001b[0mcsv_directory\u001b[0m\u001b[1;33m)\u001b[0m\u001b[1;33m:\u001b[0m\u001b[1;33m\u001b[0m\u001b[1;33m\u001b[0m\u001b[0m\n\u001b[1;32m----> 7\u001b[1;33m     \u001b[0mcsv\u001b[0m \u001b[1;33m=\u001b[0m \u001b[0mfile\u001b[0m\u001b[1;33m.\u001b[0m\u001b[0mendswith\u001b[0m\u001b[1;33m(\u001b[0m\u001b[1;34m'.csv'\u001b[0m\u001b[1;33m)\u001b[0m\u001b[1;33m\u001b[0m\u001b[1;33m\u001b[0m\u001b[0m\n\u001b[0m\u001b[0;32m      8\u001b[0m     \u001b[0mfilename\u001b[0m \u001b[1;33m=\u001b[0m \u001b[0mfile\u001b[0m\u001b[1;33m.\u001b[0m\u001b[0mextract\u001b[0m\u001b[1;33m(\u001b[0m\u001b[0mcsv_directory\u001b[0m\u001b[1;33m,\u001b[0m \u001b[0mcsv\u001b[0m\u001b[1;33m)\u001b[0m\u001b[1;33m\u001b[0m\u001b[1;33m\u001b[0m\u001b[0m\n\u001b[0;32m      9\u001b[0m     \u001b[0mcsv_list\u001b[0m\u001b[1;33m.\u001b[0m\u001b[0mappend\u001b[0m\u001b[1;33m(\u001b[0m\u001b[0mfilename\u001b[0m\u001b[1;33m)\u001b[0m\u001b[1;33m\u001b[0m\u001b[1;33m\u001b[0m\u001b[0m\n",
      "\u001b[1;31mAttributeError\u001b[0m: 'nt.DirEntry' object has no attribute 'endswith'"
     ]
    }
   ],
   "source": [
    "container = {}\n",
    "csv_list = []\n",
    "list_of_files = []\n",
    "csv_directory = \"downloaded/csv_end\"\n",
    "\n",
    "for file in os.scandir(csv_directory):\n",
    "    csv = file.endswith('.csv')\n",
    "    filename = file.extract(csv_directory, csv)\n",
    "    csv_list.append(filename)\n",
    "#     csv_list.append(list)\n",
    "#     for a in archive.namelist(): \n",
    "#         if a.endswith('.csv'):\n",
    "#             filename = a.extract(file, zip_files)\n",
    "#             csv_list.append(filename)\n",
    "print(csv_list)\n",
    "# with zipfile.ZipFile(zip_files) as zf:\n",
    "#     for name in zf.namelist():\n",
    "#         container[name] = zf.read(name)\n",
    "# container"
   ]
  },
  {
   "cell_type": "code",
   "execution_count": 32,
   "id": "6676a167",
   "metadata": {},
   "outputs": [
    {
     "data": {
      "text/plain": [
       "'C:\\\\Users\\\\Zach\\\\OneDrive\\\\Documents\\\\uni\\\\Monash\\\\tableau-challenge\\\\downloaded\\\\csv_end'"
      ]
     },
     "execution_count": 32,
     "metadata": {},
     "output_type": "execute_result"
    }
   ],
   "source": [
    "cwd = os.getcwd()\n",
    "cwd"
   ]
  },
  {
   "cell_type": "code",
   "execution_count": 29,
   "id": "778ea648",
   "metadata": {},
   "outputs": [
    {
     "ename": "FileNotFoundError",
     "evalue": "[WinError 2] The system cannot find the file specified: '../downloaded'",
     "output_type": "error",
     "traceback": [
      "\u001b[1;31m---------------------------------------------------------------------------\u001b[0m",
      "\u001b[1;31mFileNotFoundError\u001b[0m                         Traceback (most recent call last)",
      "\u001b[1;32m~\\AppData\\Local\\Temp/ipykernel_5476/4107547803.py\u001b[0m in \u001b[0;36m<module>\u001b[1;34m\u001b[0m\n\u001b[0;32m      2\u001b[0m \u001b[0mextension\u001b[0m \u001b[1;33m=\u001b[0m \u001b[1;34m\".zip\"\u001b[0m\u001b[1;33m\u001b[0m\u001b[1;33m\u001b[0m\u001b[0m\n\u001b[0;32m      3\u001b[0m \u001b[1;33m\u001b[0m\u001b[0m\n\u001b[1;32m----> 4\u001b[1;33m \u001b[0mos\u001b[0m\u001b[1;33m.\u001b[0m\u001b[0mchdir\u001b[0m\u001b[1;33m(\u001b[0m\u001b[0mcsv_directory\u001b[0m\u001b[1;33m)\u001b[0m \u001b[1;31m# change directory from working dir to dir with files\u001b[0m\u001b[1;33m\u001b[0m\u001b[1;33m\u001b[0m\u001b[0m\n\u001b[0m\u001b[0;32m      5\u001b[0m \u001b[1;33m\u001b[0m\u001b[0m\n\u001b[0;32m      6\u001b[0m \u001b[1;32mfor\u001b[0m \u001b[0mitem\u001b[0m \u001b[1;32min\u001b[0m \u001b[0mos\u001b[0m\u001b[1;33m.\u001b[0m\u001b[0mlistdir\u001b[0m\u001b[1;33m(\u001b[0m\u001b[0mcsv_directory\u001b[0m\u001b[1;33m)\u001b[0m\u001b[1;33m:\u001b[0m \u001b[1;31m# loop through items in dir\u001b[0m\u001b[1;33m\u001b[0m\u001b[1;33m\u001b[0m\u001b[0m\n",
      "\u001b[1;31mFileNotFoundError\u001b[0m: [WinError 2] The system cannot find the file specified: '../downloaded'"
     ]
    }
   ],
   "source": [
    "csv_directory = \"/\"\n",
    "extension = \".zip\"\n",
    "\n",
    "os.chdir(csv_directory) # change directory from working dir to dir with files\n",
    "\n",
    "for item in os.listdir(csv_directory): # loop through items in dir\n",
    "    if item.endswith(extension): # check for \".zip\" extension\n",
    "        file_name = os.path.abspath(item) # get full path of files\n",
    "        zip_ref = zipfile.ZipFile(file_name) # create zipfile object\n",
    "        zip_ref.extractall(dir_name) # extract file to dir\n",
    "        zip_ref.close() # close file\n",
    "        os.remove(file_name) # delete zipped file"
   ]
  },
  {
   "cell_type": "code",
   "execution_count": 70,
   "id": "19cd23d6",
   "metadata": {},
   "outputs": [
    {
     "name": "stdout",
     "output_type": "stream",
     "text": [
      "['201306-citibike-tripdata.zip', '201307-201402-citibike-tripdata.zip', '201307-citibike-tripdata.zip', '201308-citibike-tripdata.zip', '201309-citibike-tripdata.zip', '201310-citibike-tripdata.zip', '201311-citibike-tripdata.zip', '201312-citibike-tripdata.zip', '201401-citibike-tripdata.zip', '201402-citibike-tripdata.zip', '201403-citibike-tripdata.zip', '201404-citibike-tripdata.zip', '201405-citibike-tripdata.zip', '201406-citibike-tripdata.zip', '201407-citibike-tripdata.zip', '201408-citibike-tripdata.zip', '201409-citibike-tripdata.zip', '201410-citibike-tripdata.zip', '201411-citibike-tripdata.zip', '201412-citibike-tripdata.zip', '201501-citibike-tripdata.zip', '201502-citibike-tripdata.zip', '201503-citibike-tripdata.zip', '201504-citibike-tripdata.zip', '201505-citibike-tripdata.zip', '201506-citibike-tripdata.zip', '201507-citibike-tripdata.zip', '201508-citibike-tripdata.zip', '201509-citibike-tripdata.zip', '201510-citibike-tripdata.zip', '201511-citibike-tripdata.zip', '201512-citibike-tripdata.zip', '201601-citibike-tripdata.zip', '201602-citibike-tripdata.zip', '201603-citibike-tripdata.zip', '201604-citibike-tripdata.zip', '201605-citibike-tripdata.zip', '201606-citibike-tripdata.zip', '201607-citibike-tripdata.zip', '201608-citibike-tripdata.zip', '201609-citibike-tripdata.zip', '201610-citibike-tripdata.zip', '201611-citibike-tripdata.zip', '201612-citibike-tripdata.zip', '201701-citibike-tripdata.csv.zip', '201702-citibike-tripdata.csv.zip', '201703-citibike-tripdata.csv.zip', '201704-citibike-tripdata.csv.zip', '201705-citibike-tripdata.csv.zip', '201706-citibike-tripdata.csv.zip', '201707-citibike-tripdata.csv.zip', '201708-citibike-tripdata.csv.zip', '201709-citibike-tripdata.csv.zip', '201710-citibike-tripdata.csv.zip', '201711-citibike-tripdata.csv.zip', '201712-citibike-tripdata.csv.zip', '201801-citibike-tripdata.csv.zip', '201802-citibike-tripdata.csv.zip', '201803-citibike-tripdata.csv.zip', '201804-citibike-tripdata.csv.zip', '201805-citibike-tripdata.csv.zip', '201806-citibike-tripdata.csv.zip', '201807-citibike-tripdata.csv.zip', '201808-citibike-tripdata.csv.zip', '201809-citibike-tripdata.csv.zip', '201810-citibike-tripdata.csv.zip', '201811-citibike-tripdata.csv.zip', '201812-citibike-tripdata.csv.zip', '201901-citibike-tripdata.csv.zip', '201902-citibike-tripdata.csv.zip', '201903-citibike-tripdata.csv.zip', '201904-citibike-tripdata.csv.zip', '201905-citibike-tripdata.csv.zip', '201906-citibike-tripdata.csv.zip', '201907-citibike-tripdata.csv.zip', '201908-citibike-tripdata.csv.zip', '201909-citibike-tripdata.csv.zip', '201910-citibike-tripdata.csv.zip', '201911-citibike-tripdata.csv.zip', '201912-citibike-tripdata.csv.zip', '202001-citibike-tripdata.csv.zip', '202002-citibike-tripdata.csv.zip', '202003-citibike-tripdata.csv.zip', '202004-citibike-tripdata.csv.zip', '202005-citibike-tripdata.csv.zip', '202006-citibike-tripdata.csv.zip', '202007-citibike-tripdata.csv.zip', '202008-citibike-tripdata.csv.zip', '202009-citibike-tripdata.csv.zip', '202010-citibike-tripdata.csv.zip', '202011-citibike-tripdata.csv.zip', '202012-citibike-tripdata.csv.zip', '202101-citibike-tripdata.csv.zip', '202102-citibike-tripdata.csv.zip', '202103-citibike-tripdata.csv.zip', '202104-citibike-tripdata.csv.zip', '202105-citibike-tripdata.csv.zip', '202106-citibike-tripdata.csv.zip', '202107-citibike-tripdata.csv.zip', '202108-citibike-tripdata.csv.zip', '202109-citibike-tripdata.csv.zip', '202110-citibike-tripdata.csv.zip', '202111-citibike-tripdata.csv.zip', '202112-citibike-tripdata.csv.zip', 'index.html', 'JC-201509-citibike-tripdata.csv.zip', 'JC-201510-citibike-tripdata.csv.zip', 'JC-201511-citibike-tripdata.csv.zip', 'JC-201512-citibike-tripdata.csv.zip', 'JC-201601-citibike-tripdata.csv.zip', 'JC-201602-citibike-tripdata.csv.zip', 'JC-201603-citibike-tripdata.csv.zip', 'JC-201604-citibike-tripdata.csv.zip', 'JC-201605-citibike-tripdata.csv.zip', 'JC-201606-citibike-tripdata.csv.zip', 'JC-201607-citibike-tripdata.csv.zip', 'JC-201608-citibike-tripdata.csv.zip', 'JC-201609-citibike-tripdata.csv.zip', 'JC-201610-citibike-tripdata.csv.zip', 'JC-201611-citibike-tripdata.csv.zip', 'JC-201612-citibike-tripdata.csv.zip', 'JC-201701-citibike-tripdata.csv.zip', 'JC-201702-citibike-tripdata.csv.zip', 'JC-201703-citibike-tripdata.csv.zip', 'JC-201704-citibike-tripdata.csv.zip', 'JC-201705-citibike-tripdata.csv.zip', 'JC-201706-citibike-tripdata.csv.zip', 'JC-201707-citibike-tripdata.csv.zip', 'JC-201708 citibike-tripdata.csv.zip', 'JC-201709-citibike-tripdata.csv.zip', 'JC-201710-citibike-tripdata.csv.zip', 'JC-201711-citibike-tripdata.csv.zip', 'JC-201712-citibike-tripdata.csv.zip', 'JC-201801-citibike-tripdata.csv.zip', 'JC-201802-citibike-tripdata.csv.zip', 'JC-201803-citibike-tripdata.csv.zip', 'JC-201804-citibike-tripdata.csv.zip', 'JC-201805-citibike-tripdata.csv.zip', 'JC-201806-citibike-tripdata.csv.zip', 'JC-201807-citibike-tripdata.csv.zip', 'JC-201808-citibike-tripdata.csv.zip', 'JC-201809-citibike-tripdata.csv.zip', 'JC-201810-citibike-tripdata.csv.zip', 'JC-201811-citibike-tripdata.csv.zip', 'JC-201812-citibike-tripdata.csv.zip', 'JC-201901-citibike-tripdata.csv.zip', 'JC-201902-citibike-tripdata.csv.zip', 'JC-201903-citibike-tripdata.csv.zip', 'JC-201904-citibike-tripdata.csv.zip', 'JC-201905-citibike-tripdata.csv.zip', 'JC-201906-citibike-tripdata.csv.zip', 'JC-201907-citibike-tripdata.csv.zip', 'JC-201908-citibike-tripdata.csv.zip', 'JC-201909-citibike-tripdata.csv.zip', 'JC-201910-citibike-tripdata.csv.zip', 'JC-201911-citibike-tripdata.csv.zip', 'JC-201912-citibike-tripdata.csv.zip', 'JC-202001-citibike-tripdata.csv.zip', 'JC-202002-citibike-tripdata.csv.zip', 'JC-202003-citibike-tripdata.csv.zip', 'JC-202004-citibike-tripdata.csv.zip', 'JC-202005-citibike-tripdata.csv.zip', 'JC-202006-citibike-tripdata.csv.zip', 'JC-202007-citibike-tripdata.csv.zip', 'JC-202008-citibike-tripdata.csv.zip', 'JC-202009-citibike-tripdata.csv.zip', 'JC-202010-citibike-tripdata.csv.zip', 'JC-202011-citibike-tripdata.csv.zip', 'JC-202012-citibike-tripdata.csv.zip', 'JC-202101-citibike-tripdata.csv.zip', 'JC-202102-citibike-tripdata.csv.zip', 'JC-202103-citibike-tripdata.csv.zip', 'JC-202104-citibike-tripdata.csv.zip', 'JC-202105-citibike-tripdata.csv.zip', 'JC-202106-citibike-tripdata.csv.zip', 'JC-202107-citibike-tripdata.csv.zip', 'JC-202108-citibike-tripdata.csv.zip', 'JC-202109-citibike-tripdata.csv.zip', 'JC-202110-citibike-tripdata.csv.zip', 'JC-202111-citibike-tripdata.csv.zip', 'JC-202112-citibike-tripdata.csv.zip']\n",
      "downloaded/\n"
     ]
    }
   ],
   "source": [
    "print(os.listdir(downloads_dir))\n",
    "print(downloads_dir)"
   ]
  },
  {
   "cell_type": "code",
   "execution_count": 12,
   "id": "1908ca50",
   "metadata": {},
   "outputs": [
    {
     "ename": "AttributeError",
     "evalue": "'nt.DirEntry' object has no attribute 'csv'",
     "output_type": "error",
     "traceback": [
      "\u001b[1;31m---------------------------------------------------------------------------\u001b[0m",
      "\u001b[1;31mAttributeError\u001b[0m                            Traceback (most recent call last)",
      "\u001b[1;32m~\\AppData\\Local\\Temp/ipykernel_5476/2668912992.py\u001b[0m in \u001b[0;36m<module>\u001b[1;34m\u001b[0m\n\u001b[0;32m      2\u001b[0m \u001b[1;32mfor\u001b[0m \u001b[0mfile\u001b[0m \u001b[1;32min\u001b[0m \u001b[0mos\u001b[0m\u001b[1;33m.\u001b[0m\u001b[0mscandir\u001b[0m\u001b[1;33m(\u001b[0m\u001b[0mdownloads_dir\u001b[0m\u001b[1;33m)\u001b[0m\u001b[1;33m:\u001b[0m\u001b[1;33m\u001b[0m\u001b[1;33m\u001b[0m\u001b[0m\n\u001b[0;32m      3\u001b[0m     \u001b[1;32mwith\u001b[0m \u001b[0mzipfile\u001b[0m\u001b[1;33m.\u001b[0m\u001b[0mZipFile\u001b[0m\u001b[1;33m(\u001b[0m\u001b[0mfile\u001b[0m\u001b[1;33m)\u001b[0m \u001b[1;32mas\u001b[0m \u001b[0mz\u001b[0m\u001b[1;33m:\u001b[0m\u001b[1;33m\u001b[0m\u001b[1;33m\u001b[0m\u001b[0m\n\u001b[1;32m----> 4\u001b[1;33m         \u001b[1;32mwith\u001b[0m \u001b[0mz\u001b[0m\u001b[1;33m.\u001b[0m\u001b[0mopen\u001b[0m\u001b[1;33m(\u001b[0m\u001b[0mfile\u001b[0m\u001b[1;33m.\u001b[0m\u001b[0mcsv\u001b[0m\u001b[1;33m)\u001b[0m\u001b[1;33m:\u001b[0m\u001b[1;33m\u001b[0m\u001b[1;33m\u001b[0m\u001b[0m\n\u001b[0m\u001b[0;32m      5\u001b[0m             \u001b[0mdf\u001b[0m \u001b[1;33m=\u001b[0m \u001b[0mpd\u001b[0m\u001b[1;33m.\u001b[0m\u001b[0mread_csv\u001b[0m\u001b[1;33m(\u001b[0m\u001b[0mfile\u001b[0m\u001b[1;33m,\u001b[0m \u001b[0mcompression\u001b[0m\u001b[1;33m=\u001b[0m\u001b[1;34m'zip'\u001b[0m\u001b[1;33m)\u001b[0m\u001b[1;33m\u001b[0m\u001b[1;33m\u001b[0m\u001b[0m\n\u001b[0;32m      6\u001b[0m     \u001b[0mcsv_list\u001b[0m\u001b[1;33m.\u001b[0m\u001b[0mappend\u001b[0m\u001b[1;33m(\u001b[0m\u001b[0mdf\u001b[0m\u001b[1;33m)\u001b[0m\u001b[1;33m\u001b[0m\u001b[1;33m\u001b[0m\u001b[0m\n",
      "\u001b[1;31mAttributeError\u001b[0m: 'nt.DirEntry' object has no attribute 'csv'"
     ]
    }
   ],
   "source": [
    "csv_list = []\n",
    "for file in os.scandir(downloads_dir):\n",
    "    with zipfile.ZipFile(file) as z:\n",
    "        with z.open():\n",
    "            df = pd.read_csv(file, compression='zip')\n",
    "    csv_list.append(df)\n",
    "print(csv_list)\n"
   ]
  },
  {
   "cell_type": "code",
   "execution_count": null,
   "id": "0093778b",
   "metadata": {},
   "outputs": [],
   "source": []
  }
 ],
 "metadata": {
  "kernelspec": {
   "display_name": "Python 3 (ipykernel)",
   "language": "python",
   "name": "python3"
  },
  "language_info": {
   "codemirror_mode": {
    "name": "ipython",
    "version": 3
   },
   "file_extension": ".py",
   "mimetype": "text/x-python",
   "name": "python",
   "nbconvert_exporter": "python",
   "pygments_lexer": "ipython3",
   "version": "3.8.12"
  }
 },
 "nbformat": 4,
 "nbformat_minor": 5
}
